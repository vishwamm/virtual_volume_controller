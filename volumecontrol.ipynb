{
 "cells": [
  {
   "cell_type": "code",
   "execution_count": 2,
   "metadata": {},
   "outputs": [],
   "source": [
    "import numpy as np\n",
    "import time\n",
    "import mediapipe as mp\n",
    "import cv2\n",
    "import handtrackingmodule as htm\n",
    "import math\n",
    "from comtypes import CLSCTX_ALL\n",
    "from pycaw.pycaw import AudioUtilities, IAudioEndpointVolume"
   ]
  },
  {
   "cell_type": "code",
   "execution_count": 3,
   "metadata": {},
   "outputs": [],
   "source": [
    "wcam,hcam=680,420\n",
    "ctime=0\n",
    "ptime=0\n",
    "cap=cv2.VideoCapture(0)\n",
    "cap.set(3,wcam)\n",
    "cap.set(4,hcam)\n",
    "detector=htm.handdetector()\n",
    "\n",
    "\n",
    "\n",
    "\n",
    "devices = AudioUtilities.GetSpeakers()\n",
    "interface = devices.Activate(\n",
    "    IAudioEndpointVolume._iid_, CLSCTX_ALL, None)\n",
    "volume = interface.QueryInterface(IAudioEndpointVolume)\n",
    "#volume.GetMute()\n",
    "#volume.GetMasterVolumeLevel()\n",
    "volumerange=volume.GetVolumeRange()\n",
    "minvol=volumerange[0]\n",
    "maxvol=volumerange[1]\n",
    "vol=0\n",
    "volbar=400\n",
    "volper=0\n",
    "\n",
    "\n",
    "\n",
    "\n",
    "while True:\n",
    "    success,img=cap.read()\n",
    "    img=detector.findHands(img)\n",
    "    lmlist=detector.findposition(img,draw=False)\n",
    "    if len(lmlist)!=0:\n",
    "        #print(lmlist[4],lmlist[8])\n",
    "        x1,y1=lmlist[4][1],lmlist[4][2]\n",
    "        x2,y2=lmlist[8][1],lmlist[8][2]\n",
    "        cx,cy=(x1+x2)//2, (y1+y2)//2\n",
    "        cv2.circle(img,(x1,y1),15,[255,0,255],cv2.FILLED)\n",
    "        cv2.circle(img,(x2,y2),15,[255,0,255],cv2.FILLED)\n",
    "        cv2.line(img,(x1,y1), (x2,y2),(255,0,255), 2)\n",
    "        cv2.circle(img, (cx,cy), 5, [255,255,0], cv2.FILLED)\n",
    "        length=math.hypot(x2-x1,y2-y1)\n",
    "        #print(length)\n",
    "        # finger range 50-300\n",
    "        # volume range -65-0\n",
    "        vol=np.interp(length,[12,120],[minvol,maxvol])\n",
    "        volbar=np.interp(length,[12,120],[400,150])\n",
    "        volper=np.interp(length,[12,120],[0,100])\n",
    "        volume.SetMasterVolumeLevel(vol, None)\n",
    "        #print(vol)\n",
    "        if length<50:\n",
    "            cv2.circle(img,(cx,cy),15,(0,255,0),cv2.FILLED)\n",
    "    cv2.rectangle(img,(50,150),(85,400),(250,0,0),3)\n",
    "    cv2.rectangle(img,(50,int(volbar)),(85,400),(250,0,0),cv2.FILLED)\n",
    "    cv2.putText(img,f'{int(volper)}%',(40,450),cv2.FONT_HERSHEY_SIMPLEX,1,(250,0,0),2)\n",
    "\n",
    "    ctime=time.time()\n",
    "    fps=1/ (ctime-ptime)\n",
    "    ptime=ctime\n",
    "    cv2.putText(img,f'FPS:{int(fps)}',(40,50),cv2.FONT_HERSHEY_SIMPLEX,1,(255,0,0),2)\n",
    "    cv2.imshow('img',img)\n",
    "    cv2.waitKey(1)\n"
   ]
  },
  {
   "cell_type": "code",
   "execution_count": null,
   "metadata": {},
   "outputs": [],
   "source": []
  }
 ],
 "metadata": {
  "kernelspec": {
   "display_name": "computervision",
   "language": "python",
   "name": "python3"
  },
  "language_info": {
   "codemirror_mode": {
    "name": "ipython",
    "version": 3
   },
   "file_extension": ".py",
   "mimetype": "text/x-python",
   "name": "python",
   "nbconvert_exporter": "python",
   "pygments_lexer": "ipython3",
   "version": "3.9.19"
  }
 },
 "nbformat": 4,
 "nbformat_minor": 2
}
